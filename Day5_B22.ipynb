{
 "cells": [
  {
   "cell_type": "code",
   "execution_count": 1,
   "metadata": {},
   "outputs": [],
   "source": [
    "#Introduction to for loops:"
   ]
  },
  {
   "cell_type": "code",
   "execution_count": 2,
   "metadata": {},
   "outputs": [],
   "source": [
    "# Requirement : Greeting the customers"
   ]
  },
  {
   "cell_type": "code",
   "execution_count": 3,
   "metadata": {},
   "outputs": [],
   "source": [
    "Bank_customers = ['rahul','rama','gopal','ravi','dipak']"
   ]
  },
  {
   "cell_type": "code",
   "execution_count": 5,
   "metadata": {},
   "outputs": [],
   "source": [
    "# Axis bank wishes you a very happy new year to all"
   ]
  },
  {
   "cell_type": "code",
   "execution_count": 6,
   "metadata": {},
   "outputs": [],
   "source": [
    "# Regular way "
   ]
  },
  {
   "cell_type": "code",
   "execution_count": 7,
   "metadata": {},
   "outputs": [
    {
     "name": "stdout",
     "output_type": "stream",
     "text": [
      "Axis bank wishes you a very happy new year to all,Rahul\n"
     ]
    }
   ],
   "source": [
    "print(f\"Axis bank wishes you a very happy new year to all,{Bank_customers[0].title()}\")"
   ]
  },
  {
   "cell_type": "code",
   "execution_count": 8,
   "metadata": {},
   "outputs": [
    {
     "name": "stdout",
     "output_type": "stream",
     "text": [
      "Axis bank wishes you a very happy new year to all,Ravi\n"
     ]
    }
   ],
   "source": [
    "print(f\"Axis bank wishes you a very happy new year to all,{Bank_customers[3].title()}\")"
   ]
  },
  {
   "cell_type": "code",
   "execution_count": 9,
   "metadata": {},
   "outputs": [],
   "source": [
    "# To automate the solution"
   ]
  },
  {
   "cell_type": "code",
   "execution_count": 10,
   "metadata": {},
   "outputs": [
    {
     "name": "stdout",
     "output_type": "stream",
     "text": [
      "Axis bank wishes you a very happy new year to all,rahul\n",
      "Axis bank wishes you a very happy new year to all,rama\n",
      "Axis bank wishes you a very happy new year to all,gopal\n",
      "Axis bank wishes you a very happy new year to all,ravi\n",
      "Axis bank wishes you a very happy new year to all,dipak\n"
     ]
    }
   ],
   "source": [
    "for customers in Bank_customers:\n",
    "    print(f\"Axis bank wishes you a very happy new year to all,{customers}\")"
   ]
  },
  {
   "cell_type": "code",
   "execution_count": 11,
   "metadata": {},
   "outputs": [],
   "source": [
    "# General Syntax of for loop"
   ]
  },
  {
   "cell_type": "code",
   "execution_count": null,
   "metadata": {},
   "outputs": [],
   "source": [
    "for tempvar in mainvar:  # space here is called indentation need 1 tab sapce befor print\n",
    "    print(tempvar)"
   ]
  },
  {
   "cell_type": "code",
   "execution_count": 14,
   "metadata": {},
   "outputs": [
    {
     "name": "stdout",
     "output_type": "stream",
     "text": [
      "Axis bank wishes you a very happy new year to all,rahul\n",
      "Axis bank wishes you a very happy new year to all,rama\n",
      "Axis bank wishes you a very happy new year to all,gopal\n",
      "Axis bank wishes you a very happy new year to all,ravi\n",
      "Axis bank wishes you a very happy new year to all,dipak\n"
     ]
    }
   ],
   "source": [
    "for batsman in Bank_customers:\n",
    "    print(f\"Axis bank wishes you a very happy new year to all,{batsman}\")"
   ]
  },
  {
   "cell_type": "code",
   "execution_count": 15,
   "metadata": {},
   "outputs": [
    {
     "ename": "IndentationError",
     "evalue": "expected an indented block (<ipython-input-15-f0a6223c002b>, line 2)",
     "output_type": "error",
     "traceback": [
      "\u001b[1;36m  File \u001b[1;32m\"<ipython-input-15-f0a6223c002b>\"\u001b[1;36m, line \u001b[1;32m2\u001b[0m\n\u001b[1;33m    print(f\"Axis bank wishes you a very happy new year to all,{batsman}\")\u001b[0m\n\u001b[1;37m        ^\u001b[0m\n\u001b[1;31mIndentationError\u001b[0m\u001b[1;31m:\u001b[0m expected an indented block\n"
     ]
    }
   ],
   "source": [
    "for batsman in Bank_customers:     #iNDENTAION ERROR\n",
    "print(f\"Axis bank wishes you a very happy new year to all,{batsman}\")"
   ]
  },
  {
   "cell_type": "code",
   "execution_count": 16,
   "metadata": {},
   "outputs": [],
   "source": [
    "my_students = ['rahul','bala','harish','ashish','suresh']"
   ]
  },
  {
   "cell_type": "code",
   "execution_count": 17,
   "metadata": {},
   "outputs": [],
   "source": [
    "# Requirement : to appreatite the students "
   ]
  },
  {
   "cell_type": "code",
   "execution_count": 18,
   "metadata": {},
   "outputs": [
    {
     "name": "stdout",
     "output_type": "stream",
     "text": [
      "rahul\n",
      "bala\n",
      "harish\n",
      "ashish\n",
      "suresh\n"
     ]
    }
   ],
   "source": [
    "for student in my_students:\n",
    "    print(student)"
   ]
  },
  {
   "cell_type": "code",
   "execution_count": 21,
   "metadata": {},
   "outputs": [
    {
     "name": "stdout",
     "output_type": "stream",
     "text": [
      "Keep up the good work, Rahul\n",
      "Keep up the good work, Bala\n",
      "Keep up the good work, Harish\n",
      "Keep up the good work, Ashish\n",
      "Keep up the good work, Suresh\n"
     ]
    }
   ],
   "source": [
    "for student in my_students:\n",
    "    print(f\"Keep up the good work, {student.title()}\")"
   ]
  },
  {
   "cell_type": "code",
   "execution_count": 20,
   "metadata": {},
   "outputs": [],
   "source": [
    "# Requirement : \n",
    "# I am waiting to recive your practice files of today "
   ]
  },
  {
   "cell_type": "code",
   "execution_count": 23,
   "metadata": {},
   "outputs": [
    {
     "name": "stdout",
     "output_type": "stream",
     "text": [
      "Keep up the good work, Rahul\n",
      "I am waiting to recive your practice files of today, rahul\n",
      "Keep up the good work, Bala\n",
      "I am waiting to recive your practice files of today, bala\n",
      "Keep up the good work, Harish\n",
      "I am waiting to recive your practice files of today, harish\n",
      "Keep up the good work, Ashish\n",
      "I am waiting to recive your practice files of today, ashish\n",
      "Keep up the good work, Suresh\n",
      "I am waiting to recive your practice files of today, suresh\n"
     ]
    }
   ],
   "source": [
    "for y in my_students:\n",
    "    print(f\"Keep up the good work, {y.title()}\")\n",
    "    print(f\"I am waiting to recive your practice files of today, {y}\")"
   ]
  },
  {
   "cell_type": "code",
   "execution_count": 24,
   "metadata": {},
   "outputs": [
    {
     "name": "stdout",
     "output_type": "stream",
     "text": [
      "Keep up the good work, Rahul\n",
      "I am waiting to recive your practice files of today, Rahul.\n",
      "\n",
      "Keep up the good work, Bala\n",
      "I am waiting to recive your practice files of today, Bala.\n",
      "\n",
      "Keep up the good work, Harish\n",
      "I am waiting to recive your practice files of today, Harish.\n",
      "\n",
      "Keep up the good work, Ashish\n",
      "I am waiting to recive your practice files of today, Ashish.\n",
      "\n",
      "Keep up the good work, Suresh\n",
      "I am waiting to recive your practice files of today, Suresh.\n",
      "\n"
     ]
    }
   ],
   "source": [
    "for y in my_students:\n",
    "    print(f\"Keep up the good work, {y.title()}\")\n",
    "    print(f\"I am waiting to recive your practice files of today, {y.title()}.\\n\")"
   ]
  },
  {
   "cell_type": "code",
   "execution_count": 25,
   "metadata": {},
   "outputs": [
    {
     "name": "stdout",
     "output_type": "stream",
     "text": [
      "Keep up the good work, Rahul\n",
      "I am waiting to recive your practice files of today, Rahul.\n",
      "\n",
      "Keep up the good work, Bala\n",
      "I am waiting to recive your practice files of today, Bala.\n",
      "\n",
      "Keep up the good work, Harish\n",
      "I am waiting to recive your practice files of today, Harish.\n",
      "\n",
      "Keep up the good work, Ashish\n",
      "I am waiting to recive your practice files of today, Ashish.\n",
      "\n",
      "Keep up the good work, Suresh\n",
      "I am waiting to recive your practice files of today, Suresh.\n",
      "\n",
      "Thank you for joining the session\n"
     ]
    }
   ],
   "source": [
    "for y in my_students:\n",
    "    print(f\"Keep up the good work, {y.title()}\")\n",
    "    print(f\"I am waiting to recive your practice files of today, {y.title()}.\\n\")\n",
    "print('Thank you for joining the session')"
   ]
  },
  {
   "cell_type": "code",
   "execution_count": null,
   "metadata": {},
   "outputs": [],
   "source": []
  }
 ],
 "metadata": {
  "kernelspec": {
   "display_name": "Python 3",
   "language": "python",
   "name": "python3"
  },
  "language_info": {
   "codemirror_mode": {
    "name": "ipython",
    "version": 3
   },
   "file_extension": ".py",
   "mimetype": "text/x-python",
   "name": "python",
   "nbconvert_exporter": "python",
   "pygments_lexer": "ipython3",
   "version": "3.7.6"
  }
 },
 "nbformat": 4,
 "nbformat_minor": 4
}
